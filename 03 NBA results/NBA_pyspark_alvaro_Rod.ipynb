{
 "cells": [
  {
   "cell_type": "markdown",
   "metadata": {
    "collapsed": true
   },
   "source": [
    "# PYSPARK - PRÁCTICA 3 (NBA)"
   ]
  },
  {
   "cell_type": "markdown",
   "metadata": {},
   "source": [
    "#### Álvaro Rodríguez López"
   ]
  },
  {
   "cell_type": "markdown",
   "metadata": {
    "collapsed": true
   },
   "source": [
    "## Primera pregunta: Describe brevemente que diferencia el persists, cache y collect en spark. Explica brevemente casos en los que es interesante su aplicación"
   ]
  },
  {
   "cell_type": "markdown",
   "metadata": {
    "collapsed": true
   },
   "source": [
    "**Persist y cache** son mecanismos nativos de almacenamiento que optimizan las operaciones en spark. Ambas\n",
    "ayudan salvando los RDDS en memoria cache para ser utilizados en fases posteriores. Son operaciones de tipo\n",
    "transformación.\n",
    "\n",
    "\n",
    "Las diferencias entre las dos técnicas que acabamos de comentar son que mientras con **cache()** se utliza el\n",
    "nivel de memoria predeterminado, con **persist()** se puede especificar el nivel de memoria a utilizar.\n",
    "\n",
    "\n",
    "Este tipo de mecanismos son efectivos para guardar pequeños conjuntos de datos, así como en canalizaciones\n",
    "ETL donde tenga que almacenar en caché los resultados intermedios, pero no se recomiendan para la creación\n",
    "de particiones.\n",
    "\n",
    "\n",
    "La función **collect()**, de tipo acción, devuelve al ejecutarla todos los elementos de un RDD. Cuando tenemos una\n",
    "enorme cantidad de datos, realizamos transformaciones, filtros por ejemplo, y, una vez realizados, nos traemos\n",
    "ese resultado como un array usando la función collect().\n"
   ]
  },
  {
   "cell_type": "markdown",
   "metadata": {},
   "source": [
    "## Segunda pregunta: Explica brevemente los pasos a seguir para realizar la carga de un conjunto de datos (pasos que se siguieron en la práctica con datos de logs)"
   ]
  },
  {
   "cell_type": "markdown",
   "metadata": {},
   "source": [
    "Para llevar acabo la carga de datos podemos realizar las siguientes tareas:\n",
    "    \n",
    "  - inicializar spark context.\n",
    "    \n",
    "  - Importar los datos en spark context.\n",
    "    \n",
    "  - Comprobar el número de registros a importar.\n",
    "    \n",
    "  - Definir expresiones regulares para el parseado de los datos. Comprobar que las expresiones regulares coinciden con las distintas lineas.\n",
    "    \n",
    "  - Parsear conforme a la expresiones regulares chequeadas anteriormente.\n",
    "    \n",
    "  - Una vez paresados los datos, comprobar que el número de registros importados coincide.\n",
    "    \n",
    "  - Definir los tipos apropiados y las funciones que puedan ser precisas para tratar cada una de las partes parseadas."
   ]
  },
  {
   "cell_type": "markdown",
   "metadata": {},
   "source": [
    "## Tercera Pregunta: Índica un tipo de problema que puede empeorar los datos. (pe. Que no exista un representante del CDO en todas las áreas de negocio), pon algún ejemplo específico (pe. Datos duplicados) y cómo lo tratarías con técnicas de data cleaning."
   ]
  },
  {
   "cell_type": "markdown",
   "metadata": {},
   "source": [
    "   \n",
    " - Flujos de información no protocolizados: La falta de una estrategia clara en la gestión de información puede conllevar la rectificación de variables innecesarias(**determinar las variables que hay que eliminar**), la gestión de bases de datos con valores vacios (**definir la elminación, imputación o conservación de valores vacíos en función de cada variable**), la posibilidad de encontrar valores duplicados (**definir el tratamiento de valores duplicados para las distintas variables, su localización y su posterior eliminación o corrección**) y por último, la posibilidad de encontrar erratas en la imputación (**localizar valores no matcheables con expresiones regulares y determinar su eliminación o imputación**).\n",
    " \n",
    " \n",
    " - Falta de coordinación entre el área de datos y las áreas de data science o BI: Algunas variables de información que podrían resultar muy interesantes para departamentos de investigación y reporting no se integran en el flujo de información de la empresa. Puede suponer una perdida de oportunidades aunque siempre es posible **definir la creación de nuevas variables** en función de las necesidades concretas y las variables disponibles.\n",
    "\n",
    "- Falta de información sobre negocio: Finalmente los datos utilizados deben comprobarse en su conjunto para determinar si la información se corresponde con la realidad (Ej: Comparamos registros de nuevos clientes por meses y comprobamos que hay una subida en diciembre, consistente con lo que sabemos sobre el negocio de nuestra compañía). Es por ello que **llevar un registro de subidas** nos puede ayudar a identificar otros problemas."
   ]
  },
  {
   "cell_type": "markdown",
   "metadata": {},
   "source": [
    "## Cuarta tarea: Inicializar spark context y cargar los datos desde el fichero."
   ]
  },
  {
   "cell_type": "markdown",
   "metadata": {},
   "source": [
    "- **Inicializamos SparkContext**"
   ]
  },
  {
   "cell_type": "code",
   "execution_count": 1,
   "metadata": {
    "collapsed": true
   },
   "outputs": [],
   "source": [
    "from pyspark import SparkContext\n",
    "\n",
    "sc = SparkContext()\n"
   ]
  },
  {
   "cell_type": "code",
   "execution_count": 366,
   "metadata": {
    "collapsed": true
   },
   "outputs": [],
   "source": [
    "# Otros paquetes\n",
    "import time  \n",
    "import re\n",
    "from datetime import datetime\n",
    "from datetime import date, timedelta"
   ]
  },
  {
   "cell_type": "markdown",
   "metadata": {},
   "source": [
    "- **Importamos data**"
   ]
  },
  {
   "cell_type": "code",
   "execution_count": 224,
   "metadata": {
    "collapsed": true
   },
   "outputs": [],
   "source": [
    "data_file = \"./partidosLigaNBA.csv\"\n",
    "raw_data = sc.textFile(data_file)"
   ]
  },
  {
   "cell_type": "code",
   "execution_count": 225,
   "metadata": {
    "collapsed": false
   },
   "outputs": [
    {
     "data": {
      "text/plain": [
       "['Date:Start..ET.:Visitor.Neutral:PTS:Home.Neutral:PTS.1',\n",
       " 'Tue, Oct 30, 2007:\"7:30 pm\":Utah Jazz:117:Golden State Warriors:96',\n",
       " 'Tue, Oct 30, 2007:\"7:30 pm\":Houston Rockets:95:Los Angeles Lakers:93',\n",
       " 'Tue, Oct 30, 2007:\"7:00 pm\":Portland Trail Blazers:97:San Antonio Spurs:106',\n",
       " 'Wed, Oct 31, 2007:\"8:00 pm\":Dallas Mavericks:92:Cleveland Cavaliers:74']"
      ]
     },
     "execution_count": 225,
     "metadata": {},
     "output_type": "execute_result"
    }
   ],
   "source": [
    "raw_data.take(5)"
   ]
  },
  {
   "cell_type": "code",
   "execution_count": 226,
   "metadata": {
    "collapsed": false
   },
   "outputs": [
    {
     "data": {
      "text/plain": [
       "12908"
      ]
     },
     "execution_count": 226,
     "metadata": {},
     "output_type": "execute_result"
    }
   ],
   "source": [
    "raw_data.count()"
   ]
  },
  {
   "cell_type": "markdown",
   "metadata": {},
   "source": [
    "- **Parseado de raw data**"
   ]
  },
  {
   "cell_type": "markdown",
   "metadata": {},
   "source": [
    "1) Eliminamos el header"
   ]
  },
  {
   "cell_type": "code",
   "execution_count": 235,
   "metadata": {
    "collapsed": false
   },
   "outputs": [],
   "source": [
    "header = raw_data.first() \n",
    "raw_data_t1 = raw_data.filter(lambda linea: linea != header)"
   ]
  },
  {
   "cell_type": "code",
   "execution_count": 249,
   "metadata": {
    "collapsed": false,
    "scrolled": true
   },
   "outputs": [
    {
     "data": {
      "text/plain": [
       "['Tue, Oct 30, 2007:\"7:30 pm\":Utah Jazz:117:Golden State Warriors:96',\n",
       " 'Tue, Oct 30, 2007:\"7:30 pm\":Houston Rockets:95:Los Angeles Lakers:93',\n",
       " 'Tue, Oct 30, 2007:\"7:00 pm\":Portland Trail Blazers:97:San Antonio Spurs:106',\n",
       " 'Wed, Oct 31, 2007:\"8:00 pm\":Dallas Mavericks:92:Cleveland Cavaliers:74',\n",
       " 'Wed, Oct 31, 2007:\"8:30 pm\":Seattle SuperSonics:103:Denver Nuggets:120']"
      ]
     },
     "execution_count": 249,
     "metadata": {},
     "output_type": "execute_result"
    }
   ],
   "source": [
    "raw_data_t1.take(5)"
   ]
  },
  {
   "cell_type": "code",
   "execution_count": 248,
   "metadata": {
    "collapsed": false
   },
   "outputs": [
    {
     "data": {
      "text/plain": [
       "12907"
      ]
     },
     "execution_count": 248,
     "metadata": {},
     "output_type": "execute_result"
    }
   ],
   "source": [
    "raw_data_t1.count() "
   ]
  },
  {
   "cell_type": "markdown",
   "metadata": {},
   "source": [
    "2) Eliminamos las filas que no aportan info"
   ]
  },
  {
   "cell_type": "code",
   "execution_count": 577,
   "metadata": {
    "collapsed": false
   },
   "outputs": [
    {
     "data": {
      "text/plain": [
       "['Playoffs:Playoffs:Playoffs:Playoffs:Playoffs:Playoffs']"
      ]
     },
     "execution_count": 577,
     "metadata": {},
     "output_type": "execute_result"
    }
   ],
   "source": [
    "raw_data_t1.filter(lambda x: \"Playoffs\" in x).take(1) # comprobamos el aspecto de estas filas"
   ]
  },
  {
   "cell_type": "code",
   "execution_count": 272,
   "metadata": {
    "collapsed": false
   },
   "outputs": [
    {
     "data": {
      "text/plain": [
       "10"
      ]
     },
     "execution_count": 272,
     "metadata": {},
     "output_type": "execute_result"
    }
   ],
   "source": [
    "raw_data_t1.filter(lambda x: \"Playoffs\" in x).count() # comprobamos el número de filas que hay que eliminar."
   ]
  },
  {
   "cell_type": "code",
   "execution_count": 270,
   "metadata": {
    "collapsed": false
   },
   "outputs": [],
   "source": [
    "raw_data_t2 = raw_data_t1.filter(lambda x: \"Playoffs\" not in x) # Elimino las 10 filas que cotienen Playoffs"
   ]
  },
  {
   "cell_type": "code",
   "execution_count": 271,
   "metadata": {
    "collapsed": false
   },
   "outputs": [
    {
     "data": {
      "text/plain": [
       "0"
      ]
     },
     "execution_count": 271,
     "metadata": {},
     "output_type": "execute_result"
    }
   ],
   "source": [
    "raw_data_t2.filter(lambda x: \"Playoffs\" in x).count() # Compruebo que no quedan ninguna"
   ]
  },
  {
   "cell_type": "code",
   "execution_count": 579,
   "metadata": {
    "collapsed": false
   },
   "outputs": [
    {
     "data": {
      "text/plain": [
       "12897"
      ]
     },
     "execution_count": 579,
     "metadata": {},
     "output_type": "execute_result"
    }
   ],
   "source": [
    "raw_data_t2.count() # Compruebo que ha sido eliminadas"
   ]
  },
  {
   "cell_type": "markdown",
   "metadata": {},
   "source": [
    "3) Split (dividimos por \":\")"
   ]
  },
  {
   "cell_type": "code",
   "execution_count": 580,
   "metadata": {
    "collapsed": true
   },
   "outputs": [],
   "source": [
    "parsed_data = raw_data_t2.map(lambda linea: linea.split(\":\"))"
   ]
  },
  {
   "cell_type": "code",
   "execution_count": 581,
   "metadata": {
    "collapsed": false
   },
   "outputs": [
    {
     "data": {
      "text/plain": [
       "[['Tue, Oct 30, 2007',\n",
       "  '\"7',\n",
       "  '30 pm\"',\n",
       "  'Utah Jazz',\n",
       "  '117',\n",
       "  'Golden State Warriors',\n",
       "  '96']]"
      ]
     },
     "execution_count": 581,
     "metadata": {},
     "output_type": "execute_result"
    }
   ],
   "source": [
    "parsed_data.take(1)"
   ]
  },
  {
   "cell_type": "markdown",
   "metadata": {},
   "source": [
    "4) Formato fecha"
   ]
  },
  {
   "cell_type": "code",
   "execution_count": 583,
   "metadata": {
    "collapsed": false
   },
   "outputs": [],
   "source": [
    "# Función de conversion del tipo de fecha            \n",
    "\n",
    "# Year\n",
    "def year(linea):\n",
    "    from_date = linea[0]\n",
    "    conv=time.strptime(from_date,\"%a, %b %d, %Y\")\n",
    "    return time.strftime(\"%Y\",conv)\n",
    "\n",
    "# Month\n",
    "\n",
    "def month(linea):\n",
    "    from_date = linea[0]\n",
    "    conv=time.strptime(from_date,\"%a, %b %d, %Y\")\n",
    "    return time.strftime(\"%m\",conv)\n",
    "\n",
    "# consideramos cada temporada por el año en que termina. Ej: Temporada 2017, comienza en 2016 y termina en 2017.\n",
    "\n",
    "def season(linea):\n",
    "    from_date = linea[0]\n",
    "    conv=time.strptime(from_date,\"%a, %b %d, %Y\")\n",
    "    month = conv.tm_mon\n",
    "    if month < 8:\n",
    "            return conv.tm_year\n",
    "    else:\n",
    "            return conv.tm_year + 1\n",
    "\n",
    "# Ganador\n",
    "def ganador(linea):\n",
    "    if linea[4] > linea[6]:\n",
    "            return linea[3]\n",
    "    else:\n",
    "            return linea[5]\n"
   ]
  },
  {
   "cell_type": "markdown",
   "metadata": {},
   "source": [
    "## Quinta tarea: Media de la diferencia de puntos por año"
   ]
  },
  {
   "cell_type": "code",
   "execution_count": 594,
   "metadata": {
    "collapsed": false
   },
   "outputs": [],
   "source": [
    "# diferencia acumulada de puntos en cada partido.\n",
    "\n",
    "diff_year = (parsed_data.map(lambda linea: (year(linea), abs(int(linea[4]) - int(linea[6]))))\n",
    "                       .reduceByKey(lambda a,b: a+b))\n",
    "\n",
    "# Partidos en cada año\n",
    "\n",
    "matches_year = (parsed_data.map(lambda linea: (year(linea),1))\n",
    "                       .reduceByKey(lambda a,b: a+b))\n",
    "\n",
    "# Media de la diferencia de puntos por cada año\n",
    "diff_year_mean =  (diff_year.join(matches_year)\n",
    "                         .map(lambda linea: (linea[0], round((linea[1][0])/(linea[1][1]),3))))               \n",
    "               \n",
    "               "
   ]
  },
  {
   "cell_type": "code",
   "execution_count": 595,
   "metadata": {
    "collapsed": false
   },
   "outputs": [
    {
     "data": {
      "text/plain": [
       "[('2016', 11.551),\n",
       " ('2008', 11.544),\n",
       " ('2017', 11.422),\n",
       " ('2015', 11.16),\n",
       " ('2007', 11.096),\n",
       " ('2009', 11.09),\n",
       " ('2013', 11.072),\n",
       " ('2014', 10.905),\n",
       " ('2010', 10.869),\n",
       " ('2012', 10.845),\n",
       " ('2011', 10.661)]"
      ]
     },
     "execution_count": 595,
     "metadata": {},
     "output_type": "execute_result"
    }
   ],
   "source": [
    "diff_year_mean.takeOrdered(11, lambda x: -x[1]) # años ordenados por media de diff de puntos."
   ]
  },
  {
   "cell_type": "markdown",
   "metadata": {},
   "source": [
    "## Sexta tarea: ¿Han jugado todos los equipos el mismo número de partidos? ¿ Si es qué no a que puede deberse?"
   ]
  },
  {
   "cell_type": "code",
   "execution_count": 293,
   "metadata": {
    "collapsed": true
   },
   "outputs": [],
   "source": [
    "# partidos de cada equipo como local\n",
    "matches_team_local = (parsed_data.map(lambda linea: (linea[3],1))\n",
    "                       .reduceByKey(lambda a,b: a+b))\n",
    "\n",
    "# partidos de cada equipo como visitante\n",
    "matches_team_visitante = (parsed_data.map(lambda linea: (linea[5],1))\n",
    "                       .reduceByKey(lambda a,b: a+b))\n",
    "\n",
    "# partido de cada equipo totales\n",
    "matches_team_total =  (matches_team_local.join(matches_team_visitante)\n",
    "                         .map(lambda a: (a[0],(a[1][0])+(a[1][1]))))               \n",
    "               "
   ]
  },
  {
   "cell_type": "code",
   "execution_count": 297,
   "metadata": {
    "collapsed": false
   },
   "outputs": [
    {
     "data": {
      "text/plain": [
       "[('San Antonio Spurs', 933),\n",
       " ('Boston Celtics', 930),\n",
       " ('Miami Heat', 917),\n",
       " ('Cleveland Cavaliers', 901),\n",
       " ('Los Angeles Lakers', 897),\n",
       " ('Atlanta Hawks', 896),\n",
       " ('Golden State Warriors', 885),\n",
       " ('Chicago Bulls', 873),\n",
       " ('Houston Rockets', 868),\n",
       " ('Indiana Pacers', 868),\n",
       " ('Memphis Grizzlies', 867),\n",
       " ('Dallas Mavericks', 867),\n",
       " ('Orlando Magic', 863),\n",
       " ('Los Angeles Clippers', 861),\n",
       " ('Portland Trail Blazers', 853),\n",
       " ('Toronto Raptors', 850),\n",
       " ('Denver Nuggets', 848),\n",
       " ('Utah Jazz', 846),\n",
       " ('Washington Wizards', 844),\n",
       " ('Philadelphia 76ers', 834),\n",
       " ('Detroit Pistons', 829),\n",
       " ('Milwaukee Bucks', 827),\n",
       " ('Phoenix Suns', 825),\n",
       " ('New York Knicks', 825),\n",
       " ('Oklahoma City Thunder', 818),\n",
       " ('Minnesota Timberwolves', 804),\n",
       " ('Sacramento Kings', 804),\n",
       " ('Charlotte Bobcats', 566),\n",
       " ('New Orleans Hornets', 499),\n",
       " ('Brooklyn Nets', 435),\n",
       " ('New Jersey Nets', 394),\n",
       " ('New Orleans Pelicans', 332),\n",
       " ('Charlotte Hornets', 253),\n",
       " ('Seattle SuperSonics', 82)]"
      ]
     },
     "execution_count": 297,
     "metadata": {},
     "output_type": "execute_result"
    }
   ],
   "source": [
    "matches_team_total.takeOrdered(50, lambda x: -x[1])"
   ]
  },
  {
   "cell_type": "markdown",
   "metadata": {},
   "source": [
    "Los  equipos han jugado distinto número de partidos.\n",
    "\n",
    "- Algunas franquicias, las que menos partidos han disputado en los años de la base de datos, desaparecieron o se crearon estos años y no disputaron todas las temporadas tenidas en consideración.\n",
    "\n",
    "- Las diferencias entre las franquicias que han disputado todas las temporadas puede deberse a los playoff. No todos los equipos lo juegan, pueden disputar distintas rondas y distinto número de partido en cada ronda."
   ]
  },
  {
   "cell_type": "markdown",
   "metadata": {
    "collapsed": true
   },
   "source": [
    "## Séptima pregunta: ¿Cuantos partidos ha ganado en Enero Cleveland?"
   ]
  },
  {
   "cell_type": "code",
   "execution_count": 632,
   "metadata": {
    "collapsed": false
   },
   "outputs": [],
   "source": [
    "# Solución 1\n",
    "# Partidos locales de los cavaliers, ganados, en el mes de enero de cualquier año.\n",
    "\n",
    "local_cleveland_jan = (parsed_data.filter(lambda linea: linea[3] == \"Cleveland Cavaliers\")\n",
    "                       .filter(lambda linea: int(linea[4]) > int(linea[6]))\n",
    "                       .filter(lambda linea: month(linea) == \"01\")\n",
    "                       .map(lambda linea: (month(linea),1))\n",
    "                       .reduceByKey(lambda a,b: a+b))\n",
    "\n",
    "# Partidos visitantes de los cavaliers, ganados, en el mes de enero de cualquier año.\n",
    "\n",
    "visit_cleveland_jan = (parsed_data.filter(lambda linea: linea[5] == \"Cleveland Cavaliers\")\n",
    "                       .filter(lambda linea: int(linea[6]) > int(linea[4]))\n",
    "                       .filter(lambda linea: month(linea) == \"01\")\n",
    "                       .map(lambda linea: (month(linea),1))\n",
    "                       .reduceByKey(lambda a,b: a+b))\n",
    "\n",
    "# Partidos totales ganados en el mes de enero de cualquier año.\n",
    "wins_cleveland_jan =  (local_cleveland_jan.join(visit_cleveland_jan)\n",
    "                         .map(lambda a: (a[0], (a[1][0])+(a[1][1]))))               \n",
    "               "
   ]
  },
  {
   "cell_type": "code",
   "execution_count": 637,
   "metadata": {
    "collapsed": false
   },
   "outputs": [],
   "source": [
    "# Solución 2\n",
    "\n",
    "# Partidos jugados en enero, ganados por cleveland \n",
    "\n",
    "cleveland_jan_wins = (parsed_data.filter(lambda linea: month(linea) == \"01\")\n",
    "         .filter(lambda linea: ganador(linea) == \"Cleveland Cavaliers\"))"
   ]
  },
  {
   "cell_type": "code",
   "execution_count": 638,
   "metadata": {
    "collapsed": false
   },
   "outputs": [
    {
     "data": {
      "text/plain": [
       "93"
      ]
     },
     "execution_count": 638,
     "metadata": {},
     "output_type": "execute_result"
    }
   ],
   "source": [
    "cleveland_jan_wins.count()"
   ]
  },
  {
   "cell_type": "markdown",
   "metadata": {
    "collapsed": true
   },
   "source": [
    "## Octava pregunta: ¿Los Warrios son mejores fuera de casa o en casa?"
   ]
  },
  {
   "cell_type": "code",
   "execution_count": 357,
   "metadata": {
    "collapsed": false
   },
   "outputs": [
    {
     "name": "stdout",
     "output_type": "stream",
     "text": [
      "Los warriors han conseguido un porcentaje de victorias como locales de 0.489, habiendo ganado 215 de 440 partidos.\n",
      "Los warriors han conseguido un porcentaje de victorias como visitantes de 0.692, habiendo ganado 308 de 445 partidos.\n"
     ]
    }
   ],
   "source": [
    "# Local\n",
    "#Partidos ganados\n",
    "win_local_warriors = (parsed_data.filter(lambda linea: linea[3] == \"Golden State Warriors\")\n",
    "                     .filter(lambda linea: int(linea[4]) > int(linea[6]))\n",
    "                     .count())\n",
    "# Partidos jugados                 \n",
    "matches_local_warriors = (parsed_data.filter(lambda linea: linea[3] == \"Golden State Warriors\")\n",
    "                     .count())\n",
    "  \n",
    "# Visitante\n",
    "# ganados\n",
    "win_visit_warriors = (parsed_data.filter(lambda linea: linea[5] == \"Golden State Warriors\")\n",
    "                     .filter(lambda linea: int(linea[6]) > int(linea[4]))\n",
    "                     .count())\n",
    "# jugados                    \n",
    "matches_visit_warriors = (parsed_data.filter(lambda linea: linea[5] == \"Golden State Warriors\")\n",
    "                     .count())\n",
    "    \n",
    "# Ratios\n",
    "\n",
    "local = win_local_warriors / matches_local_warriors\n",
    "\n",
    "visit = win_visit_warriors / matches_visit_warriors\n",
    "\n",
    "print(\"Los warriors han conseguido un porcentaje de victorias como locales de {}, habiendo ganado {} de {} partidos.\"\n",
    ".format(round(local,3),win_local_warriors,matches_local_warriors))\n",
    "\n",
    "\n",
    "print(\"Los warriors han conseguido un porcentaje de victorias como visitantes de {}, habiendo ganado {} de {} partidos.\"\n",
    ".format(round(visit,3),win_visit_warriors,matches_visit_warriors))\n",
    "\n",
    "# Son mejores como visitantes."
   ]
  },
  {
   "cell_type": "markdown",
   "metadata": {},
   "source": [
    "## Novena pregunta: Equipo que ha quedado primerio en victorias más temporadas. (si es que hay alguno que más)"
   ]
  },
  {
   "cell_type": "code",
   "execution_count": 663,
   "metadata": {
    "collapsed": false
   },
   "outputs": [],
   "source": [
    "# victorial locales de cada equipo por temporada\n",
    "\n",
    "win_local_season = (parsed_data.filter(lambda linea: int(linea[4]) > int(linea[6]))\n",
    "                    .map(lambda linea:((season(linea),linea[3]),1))\n",
    "                    .reduceByKey(lambda a,b: a+b))\n",
    "             \n",
    "\n",
    "win_visit_season = (parsed_data.filter(lambda linea: int(linea[6]) > int(linea[4]))\n",
    "                    .map(lambda linea:((season(linea),linea[5]),1))\n",
    "                    .reduceByKey(add))\n",
    "        \n",
    "\n",
    "wins_max_season =  (win_local_season.join(win_visit_season)\n",
    "                      .map(lambda linea:(linea[0][0],(linea[0][1],linea[1][0]+linea[1][1])))\n",
    "                      .groupByKey()\n",
    "                      .map(lambda x : (x[0], max(list(x[1]), key=lambda item: item[1]))))"
   ]
  },
  {
   "cell_type": "code",
   "execution_count": 665,
   "metadata": {
    "collapsed": false
   },
   "outputs": [
    {
     "data": {
      "text/plain": [
       "[(2016, ('Golden State Warriors', 88)),\n",
       " (2008, ('Boston Celtics', 82)),\n",
       " (2010, ('Los Angeles Lakers', 73)),\n",
       " (2012, ('Miami Heat', 62)),\n",
       " (2014, ('San Antonio Spurs', 78)),\n",
       " (2017, ('Golden State Warriors', 83)),\n",
       " (2011, ('Dallas Mavericks', 73)),\n",
       " (2013, ('Miami Heat', 82)),\n",
       " (2015, ('Golden State Warriors', 83)),\n",
       " (2009, ('Los Angeles Lakers', 81))]"
      ]
     },
     "execution_count": 665,
     "metadata": {},
     "output_type": "execute_result"
    }
   ],
   "source": [
    "wins_max_season.collect()"
   ]
  },
  {
   "cell_type": "markdown",
   "metadata": {},
   "source": [
    "##  Décima pregunta: Escribe la expresión regular correcta que sólo macheen los teléfonos y el correo del siguiente texto."
   ]
  },
  {
   "cell_type": "markdown",
   "metadata": {},
   "source": [
    "Si eres cliente y necesitas información sobre tus posiciones, productos o realizar operaciones: Desde España. Desde el extranjero. Banca telefónica en castellano. Bandera castellano. 902 13 23 13. Banca telefónica en catalán. Bandera catalana. 902 88 30 08. Banca telefónica en inglés. Bandera inglesa. 902 88 88 35. O por correo electrónico a atencioncliente@bankinter.com"
   ]
  },
  {
   "cell_type": "code",
   "execution_count": 683,
   "metadata": {
    "collapsed": false
   },
   "outputs": [
    {
     "name": "stdout",
     "output_type": "stream",
     "text": [
      "[('902', '13', '23', '13'), ('902', '88', '30', '08'), ('902', '88', '88', '35')] ['atencioncliente@bankinter.com']\n"
     ]
    }
   ],
   "source": [
    "# telefonos\n",
    "\n",
    "texto = \"Si eres cliente y necesitas información sobre tus posiciones, productos o realizar operaciones: Desde España. Desde el extranjero. Banca telefónica en castellano. Bandera castellano. 902 13 23 13. Banca telefónica en catalán. Bandera catalana. 902 88 30 08. Banca telefónica en inglés. Bandera inglesa. 902 88 88 35. O por correo electrónico a atencioncliente@bankinter.com\"\n",
    "\n",
    "# definimos la cadena de expresiones\n",
    "regexp_tel = '(?:(\\d+) ?\\(?(\\d{2})\\)?[\\s+\\.]?)?(\\d{2})[\\s+\\.]?(\\d{2})' # telefono\n",
    "regexp_correo = \"(\\S+@\\S+)\" # correo\n",
    "\n",
    "telefono = re.findall(regexp_tel,texto)\n",
    "correo = re.findall(regexp_correo,texto)\n",
    "\n",
    "print(telefono,correo)"
   ]
  }
 ],
 "metadata": {
  "kernelspec": {
   "display_name": "Python 3",
   "language": "python",
   "name": "python3"
  },
  "language_info": {
   "codemirror_mode": {
    "name": "ipython",
    "version": 3
   },
   "file_extension": ".py",
   "mimetype": "text/x-python",
   "name": "python",
   "nbconvert_exporter": "python",
   "pygments_lexer": "ipython3",
   "version": "3.5.2"
  }
 },
 "nbformat": 4,
 "nbformat_minor": 2
}
