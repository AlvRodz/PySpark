{
 "cells": [
  {
   "cell_type": "markdown",
   "metadata": {},
   "source": [
    "# Práctica pyspark\n",
    "\n",
    "Álvaro Rodríguez López"
   ]
  },
  {
   "cell_type": "markdown",
   "metadata": {},
   "source": [
    "### Crear RDD"
   ]
  },
  {
   "cell_type": "code",
   "execution_count": 1,
   "metadata": {},
   "outputs": [],
   "source": [
    "from pyspark import SparkContext\n",
    "\n",
    "sc = SparkContext()\n"
   ]
  },
  {
   "cell_type": "code",
   "execution_count": 2,
   "metadata": {},
   "outputs": [],
   "source": [
    "data_file = \"./data/apache.access.log_small\"\n",
    "raw_data = sc.textFile(data_file)"
   ]
  },
  {
   "cell_type": "markdown",
   "metadata": {},
   "source": [
    "### Comprobar carga"
   ]
  },
  {
   "cell_type": "code",
   "execution_count": 3,
   "metadata": {},
   "outputs": [
    {
     "data": {
      "text/plain": [
       "3432"
      ]
     },
     "execution_count": 3,
     "metadata": {},
     "output_type": "execute_result"
    }
   ],
   "source": [
    "#comprobar número de registros\n",
    "raw_data.count()"
   ]
  },
  {
   "cell_type": "code",
   "execution_count": 4,
   "metadata": {},
   "outputs": [
    {
     "data": {
      "text/plain": [
       "['in24.inetnebr.com - - [01/Aug/1995:00:00:01 -0400] \"GET /shuttle/missions/sts-68/news/sts-68-mcc-05.txt HTTP/1.0\" 200 1839',\n",
       " 'uplherc.upl.com - - [01/Aug/1995:00:00:07 -0400] \"GET / HTTP/1.0\" 304 0',\n",
       " 'uplherc.upl.com - - [01/Aug/1995:00:00:08 -0400] \"GET /images/ksclogo-medium.gif HTTP/1.0\" 304 0',\n",
       " 'uplherc.upl.com - - [01/Aug/1995:00:00:08 -0400] \"GET /images/MOSAIC-logosmall.gif HTTP/1.0\" 304 0',\n",
       " 'uplherc.upl.com - - [01/Aug/1995:00:00:08 -0400] \"GET /images/USA-logosmall.gif HTTP/1.0\" 304 0']"
      ]
     },
     "execution_count": 4,
     "metadata": {},
     "output_type": "execute_result"
    }
   ],
   "source": [
    "# comprobar cinco primeros registros\n",
    "raw_data.take(5)"
   ]
  },
  {
   "cell_type": "code",
   "execution_count": 39,
   "metadata": {},
   "outputs": [
    {
     "name": "stdout",
     "output_type": "stream",
     "text": [
      "De un total de 3432 logs, 0 fallaron en la conversión\n"
     ]
    }
   ],
   "source": [
    "# comprobar que todos los regristros coinciden con un formato log apache\n",
    "import re\n",
    "# utilizamos el modulo regular expresions para parsear las distintas partes de los logs de apache.\n",
    "# definimos la cadena de expresiones\n",
    "apache_log_formato = '^(\\S+) (\\S+) (\\S+) \\[([\\w:/]+\\s[+\\-]\\d{4})\\] \"(\\S+) (\\S+)\\s*(\\S*)\" (\\d{3}) (\\S+)'\n",
    "# función search del module regular expression para comprobar si las distintas líneas coinciden con el formato\n",
    "def parse_log_apache(linea):\n",
    "    match = re.search(apache_log_formato, linea)\n",
    "    if match is None:\n",
    "        return 0\n",
    "    else:\n",
    "        return 1\n",
    "total_logs = raw_data.count() # número total de registros\n",
    "fallos = raw_data.map(lambda linea: parse_log_apache(linea)).filter(lambda linea: linea == 0).count() # filtramos los registros que no coinciden\n",
    "print('De un total de {} logs, {} fallaron en la conversión'.format(total_logs,fallos))\n",
    "# todos los registros coinciden con la expresión apache_log_formato"
   ]
  },
  {
   "cell_type": "markdown",
   "metadata": {},
   "source": [
    "### Parseando "
   ]
  },
  {
   "cell_type": "code",
   "execution_count": 13,
   "metadata": {},
   "outputs": [],
   "source": [
    "def map_log_apache(linea):\n",
    "    match = re.search(apache_log_formato,linea)\n",
    "    return(match.groups()) \n",
    "\n",
    "parsed_data = raw_data.map(map_log_apache)\n",
    "\n",
    "# parseamos cada registro conforme a la expresión apache_log_formato\n"
   ]
  },
  {
   "cell_type": "code",
   "execution_count": 14,
   "metadata": {},
   "outputs": [
    {
     "data": {
      "text/plain": [
       "3432"
      ]
     },
     "execution_count": 14,
     "metadata": {},
     "output_type": "execute_result"
    }
   ],
   "source": [
    "parsed_data.count() # Comprobamos que el número de registros es el mismo"
   ]
  },
  {
   "cell_type": "code",
   "execution_count": 29,
   "metadata": {
    "collapsed": true
   },
   "outputs": [],
   "source": [
    "# definimos función para trabajar con las fechas\n",
    "from datetime import datetime\n",
    "def fechas(linea):\n",
    "    fecha = linea[3]\n",
    "    return datetime.strptime(fecha[:11], \"%d/%b/%Y\")"
   ]
  },
  {
   "cell_type": "code",
   "execution_count": null,
   "metadata": {
    "collapsed": true
   },
   "outputs": [],
   "source": [
    "# definimos función para trabajar con números size\n",
    "def convertir_size(size): # convertir los datos en números\n",
    "    size = re.sub('[^0-9]',\"\",size) \n",
    "    if size ==\"\":\n",
    "        return 0\n",
    "    else:\n",
    "        return int(size)\n"
   ]
  },
  {
   "cell_type": "markdown",
   "metadata": {},
   "source": [
    "### Ejercicios"
   ]
  },
  {
   "cell_type": "markdown",
   "metadata": {},
   "source": [
    "- Mínimo, Máximo, Media del tamaño de las peticiones (size)"
   ]
  },
  {
   "cell_type": "code",
   "execution_count": 38,
   "metadata": {},
   "outputs": [
    {
     "data": {
      "text/plain": [
       "(count: 3432, mean: 16051.863636363634, stdev: 53247.8157482, max: 887988.0, min: 0.0)"
      ]
     },
     "execution_count": 38,
     "metadata": {},
     "output_type": "execute_result"
    }
   ],
   "source": [
    "\n",
    "# convertir el registro nueve y extraer estadísticas\n",
    "resultado = parsed_data.map(lambda linea: convertir_size(linea[8])).stats() \n",
    "resultado"
   ]
  },
  {
   "cell_type": "code",
   "execution_count": 17,
   "metadata": {},
   "outputs": [
    {
     "name": "stdout",
     "output_type": "stream",
     "text": [
      "Los tamaños de los logs tienen una media de 16051.864, un máximo de 0 y un mínimo de 887988\n"
     ]
    }
   ],
   "source": [
    "# alternativamente\n",
    "media = parsed_data.map(lambda linea: convertir_size(linea[8])).mean()\n",
    "minimo = parsed_data.map(lambda linea: convertir_size(linea[8])).min()\n",
    "maximo = parsed_data.map(lambda linea: convertir_size(linea[8])).max()\n",
    "print('Los tamaños de los logs tienen una media de {}, un máximo de {} y un mínimo de {}'\n",
    "      .format(round(media,3),minimo,maximo))\n"
   ]
  },
  {
   "cell_type": "markdown",
   "metadata": {},
   "source": [
    "- Núm. peticiones de cada código de respuesta (respon"
   ]
  },
  {
   "cell_type": "code",
   "execution_count": 18,
   "metadata": {},
   "outputs": [
    {
     "data": {
      "text/plain": [
       "[('200', 3140), ('304', 219), ('302', 50), ('404', 22), ('403', 1)]"
      ]
     },
     "execution_count": 18,
     "metadata": {},
     "output_type": "execute_result"
    }
   ],
   "source": [
    "# calculamos el número de códigos de respuesta distintos\n",
    "num_codigos = parsed_data.map(lambda linea: (linea[7], 1)).distinct().count()\n",
    "\n",
    "#  transformaciones map, reducebykey, acción takeOrdered\n",
    "contar_codigos = (parsed_data.map(lambda linea: (linea[7], 1)) # valores de response_code\n",
    "          .reduceByKey(lambda a, b: a + b) #une los valores para cada clave usando una función de reducción asociativa. \n",
    "          .takeOrdered(num_codigos, lambda x: -x[1])) # tomo una muestra odenadada de cuantos valores distintos existen\n",
    "contar_codigos # ordenados de maás a menos repetido"
   ]
  },
  {
   "cell_type": "markdown",
   "metadata": {},
   "source": [
    "- Mostrar 20 hosts que han sido visitados más de 10 veces."
   ]
  },
  {
   "cell_type": "code",
   "execution_count": 19,
   "metadata": {},
   "outputs": [
    {
     "data": {
      "text/plain": [
       "[('prakinf2.prakinf.tu-ilmenau.de', 14),\n",
       " ('centauri.tksc.nasda.go.jp', 13),\n",
       " ('www-a1.proxy.aol.com', 23),\n",
       " ('133.68.18.180', 17),\n",
       " ('hsccs_gatorbox07.unm.edu', 40),\n",
       " ('pme609.onramp.awinc.com', 22),\n",
       " ('lutzp.tigernet.net', 12),\n",
       " ('maui56.maui.net', 23),\n",
       " ('193.84.66.147', 31),\n",
       " ('dws.urz.uni-magdeburg.de', 13),\n",
       " ('168.78.14.166', 24),\n",
       " ('ix-sf10-28.ix.netcom.com', 12),\n",
       " ('adam.tower.com.au', 44),\n",
       " ('www-d1.proxy.aol.com', 39),\n",
       " ('pc-heh.icl.dk', 33),\n",
       " ('www-c3.proxy.aol.com', 17),\n",
       " ('143.158.26.50', 29),\n",
       " ('dd15-053.compuserve.com', 11),\n",
       " ('ppp33.asahi-net.or.jp', 11),\n",
       " ('ts6-11.westwood.ts.ucla.edu', 15)]"
      ]
     },
     "execution_count": 19,
     "metadata": {},
     "output_type": "execute_result"
    }
   ],
   "source": [
    "# transformaciónes map, reducebykey y filter, acción take\n",
    "resultado = (parsed_data.map(lambda linea: (linea[0],1)) # valores de endpoints\n",
    "            .reduceByKey(lambda a, b: a + b) #funcion reduccion para clave valor\n",
    "            .filter(lambda linea: linea[1] > 10)\n",
    "            .take(20))\n",
    "resultado\n",
    "# se muestran 20 hosts visitados más de 10 veces"
   ]
  },
  {
   "cell_type": "markdown",
   "metadata": {},
   "source": [
    "- Mostrar los 10 endpoints más visitados"
   ]
  },
  {
   "cell_type": "code",
   "execution_count": 20,
   "metadata": {},
   "outputs": [
    {
     "data": {
      "text/plain": [
       "[('/images/KSC-logosmall.gif', 167),\n",
       " ('/images/NASA-logosmall.gif', 160),\n",
       " ('/images/MOSAIC-logosmall.gif', 122),\n",
       " ('/images/WORLD-logosmall.gif', 120),\n",
       " ('/images/USA-logosmall.gif', 118),\n",
       " ('/images/ksclogo-medium.gif', 106),\n",
       " ('/', 85),\n",
       " ('/history/apollo/images/apollo-logo1.gif', 74),\n",
       " ('/images/launch-logo.gif', 69),\n",
       " ('/images/ksclogosmall.gif', 66)]"
      ]
     },
     "execution_count": 20,
     "metadata": {},
     "output_type": "execute_result"
    }
   ],
   "source": [
    "# transformaciones map, reducebykey, acción takeOrdered\n",
    "resultado = (parsed_data.map(lambda linea: (linea[5],1)) # valores de endpoints\n",
    "            .reduceByKey(lambda a, b: a + b) #funcion reduccion para clave valor\n",
    "            .takeOrdered(10, lambda x: -x[1])) # accion, tomar 10 valores ordenados por número de visitas\n",
    "resultado\n"
   ]
  },
  {
   "cell_type": "markdown",
   "metadata": {},
   "source": [
    "- Mostrar los 10 endpoints más visitados que no tienen código de respuesta =200"
   ]
  },
  {
   "cell_type": "code",
   "execution_count": 21,
   "metadata": {},
   "outputs": [
    {
     "data": {
      "text/plain": [
       "[('/images/NASA-logosmall.gif', 25),\n",
       " ('/images/KSC-logosmall.gif', 24),\n",
       " ('/images/MOSAIC-logosmall.gif', 17),\n",
       " ('/images/WORLD-logosmall.gif', 17),\n",
       " ('/images/USA-logosmall.gif', 16),\n",
       " ('/images/ksclogo-medium.gif', 10),\n",
       " ('/images/construct.gif', 8),\n",
       " ('/software/winvn/winvn.html', 8),\n",
       " ('/software/winvn/bluemarb.gif', 8),\n",
       " ('/software/winvn/wvsmall.gif', 6)]"
      ]
     },
     "execution_count": 21,
     "metadata": {},
     "output_type": "execute_result"
    }
   ],
   "source": [
    "# transformaciones filter, map, reducebykey, acción takeOrdered\n",
    "resultado = (parsed_data.filter(lambda linea: linea[7] != '200') # valores de respuesta distintos de 200\n",
    "          .map(lambda linea: (linea[5], 1)) # clave-valor de endpoints\n",
    "          .reduceByKey(lambda a, b: a+b)  #funcion reduccion para clave valor\n",
    "          .takeOrdered(10, lambda x: -x[1])) # tomamos los diez endpoints más visitados.\n",
    "resultado"
   ]
  },
  {
   "cell_type": "markdown",
   "metadata": {},
   "source": [
    "- Calcular el número de hosts distintos"
   ]
  },
  {
   "cell_type": "code",
   "execution_count": 22,
   "metadata": {},
   "outputs": [
    {
     "data": {
      "text/plain": [
       "311"
      ]
     },
     "execution_count": 22,
     "metadata": {},
     "output_type": "execute_result"
    }
   ],
   "source": [
    "# número de host distintos\n",
    "# transformaciones map, distinct, acción count\n",
    "parsed_data.map(lambda linea: linea[0]).distinct().count()"
   ]
  },
  {
   "cell_type": "markdown",
   "metadata": {},
   "source": [
    "- Contar el núm. de hosts únicos cada día"
   ]
  },
  {
   "cell_type": "code",
   "execution_count": 30,
   "metadata": {},
   "outputs": [
    {
     "data": {
      "text/plain": [
       "[(datetime.datetime(1995, 8, 1, 0, 0), 311)]"
      ]
     },
     "execution_count": 30,
     "metadata": {},
     "output_type": "execute_result"
    }
   ],
   "source": [
    "# número de host distintos por día\n",
    "# transformaciones map, groupbykey,mapvalues,map, acción collect\n",
    "resultado = (parsed_data.map(lambda linea:(fechas(linea),linea[0]))\n",
    "          .groupByKey()\n",
    "          .mapValues(set) # Pasa cada línea en el par de clave-valor RDD a través de una función map sin cambiar las claves\n",
    "          .map(lambda x: (x[0], len(x[1])))) # para cada fecha, número de hosts distintos\n",
    "\n",
    "resultado.collect()\n",
    "# solo hay un día, los 311 hosts se dan el mismo día."
   ]
  },
  {
   "cell_type": "markdown",
   "metadata": {},
   "source": [
    "- Calcular la media de peteciones diarias por host"
   ]
  },
  {
   "cell_type": "code",
   "execution_count": 42,
   "metadata": {},
   "outputs": [
    {
     "data": {
      "text/plain": [
       "[(datetime.datetime(1995, 8, 1, 0, 0), 11.035)]"
      ]
     },
     "execution_count": 42,
     "metadata": {},
     "output_type": "execute_result"
    }
   ],
   "source": [
    "# calculamos nuevamente el número de hosts distintos por día\n",
    "host_distintos_dia = (parsed_data.map(lambda linea:  (fechas(linea),linea[0]))\n",
    "          .groupByKey()\n",
    "          .mapValues(set) # nuevamente con la función set\n",
    "          .map(lambda x: (x[0], len(x[1])))) \n",
    "# calculamos las peticiones totales por día\n",
    "peticiones_totales_dia = (parsed_data.map(lambda linea:(fechas(linea),linea[0]))\n",
    "          .groupByKey()\n",
    "          .mapValues(len)) # aplicamos directamente la función len\n",
    "\n",
    "# unimos ambos resultados y para cada fecha, calculamos el número total de peticiones para ese día entre el número de hosts diarios.\n",
    "peticiones_diarias_media = (peticiones_totales_dia.join(host_distintos_dia)\n",
    "                         .map(lambda a: (a[0], round((a[1][0])/(a[1][1]),3)))\n",
    "                         .collect())\n",
    "\n",
    "peticiones_diarias_media\n",
    "\n",
    "# solo hay un día, su media es 11.03 peticiones por host"
   ]
  },
  {
   "cell_type": "markdown",
   "metadata": {},
   "source": [
    "- Mostrar una de lista de 40 endpoints distintos que generan código de respuesta = 404"
   ]
  },
  {
   "cell_type": "code",
   "execution_count": 32,
   "metadata": {},
   "outputs": [
    {
     "data": {
      "text/plain": [
       "[('/history/apollo/a-001/images/', 1),\n",
       " ('/history/apollo/a-001/a-001-patch-small.gif', 4),\n",
       " ('/history/apollo/a-004/a-004-patch-small.gif', 2),\n",
       " ('/sts-71/launch/', 1),\n",
       " ('/history/history.htm', 1),\n",
       " ('/history/apollo/apollo-13.html', 1),\n",
       " ('/history/apollo/a-004/movies/', 1),\n",
       " ('/shuttle/resources/orbiters/discovery.gif', 1),\n",
       " ('/www/software/winvn/winvn.html', 1),\n",
       " ('/history/apollo/a-001/movies/', 2),\n",
       " ('/pub/winvn/release.txt', 4),\n",
       " ('/elv/DELTA/uncons.htm', 1),\n",
       " ('/pub/winvn/readme.txt', 2)]"
      ]
     },
     "execution_count": 32,
     "metadata": {},
     "output_type": "execute_result"
    }
   ],
   "source": [
    "# transformacion filter, map, reducebykey y distinct, acción collect\n",
    "resultado = (parsed_data.filter(lambda linea: linea[7] == '404')\n",
    "          .map(lambda linea: (linea[5], 1))\n",
    "          .reduceByKey(lambda a, b: a+b) # hacemos igualmente la agregación, para ver el número de veces que se repite cada uno.\n",
    "          .take(40))\n",
    "resultado\n",
    "\n",
    "# solo hay 22 endopoints que generan código de respuesta 404, 13 valores únicos.\n",
    "# se muestran todos los distintos endpoints con respuesta 404, junto con el número de veces que se han dado"
   ]
  },
  {
   "cell_type": "markdown",
   "metadata": {},
   "source": [
    "- Mostrar el top 25 de endpoints que más códigos de respuesta 404 generan"
   ]
  },
  {
   "cell_type": "code",
   "execution_count": 37,
   "metadata": {},
   "outputs": [
    {
     "data": {
      "text/plain": [
       "[('/history/apollo/a-001/a-001-patch-small.gif', 4),\n",
       " ('/pub/winvn/release.txt', 4),\n",
       " ('/history/apollo/a-004/a-004-patch-small.gif', 2),\n",
       " ('/history/apollo/a-001/movies/', 2),\n",
       " ('/pub/winvn/readme.txt', 2),\n",
       " ('/history/apollo/a-001/images/', 1),\n",
       " ('/sts-71/launch/', 1),\n",
       " ('/history/history.htm', 1),\n",
       " ('/history/apollo/apollo-13.html', 1),\n",
       " ('/history/apollo/a-004/movies/', 1),\n",
       " ('/shuttle/resources/orbiters/discovery.gif', 1),\n",
       " ('/www/software/winvn/winvn.html', 1),\n",
       " ('/elv/DELTA/uncons.htm', 1)]"
      ]
     },
     "execution_count": 37,
     "metadata": {},
     "output_type": "execute_result"
    }
   ],
   "source": [
    "# ordenamos endpoints por el número de veces que han registrado códigos de respuesta 404 \n",
    "resultado = (parsed_data.filter(lambda linea: linea[7] == '404')\n",
    "          .map(lambda linea: (linea[5], 1))\n",
    "          .reduceByKey(lambda a, b: a+b)\n",
    "          .takeOrdered(25, lambda x: -x[1])) # Seleccionamos los 25 mayores\n",
    "resultado\n",
    "# Solo hay 13 endpoints en nuestro data set que han dado codigo de respuesta 404"
   ]
  },
  {
   "cell_type": "markdown",
   "metadata": {},
   "source": [
    "- El top 5 de días que se generaron código de respuestas 404"
   ]
  },
  {
   "cell_type": "code",
   "execution_count": 36,
   "metadata": {},
   "outputs": [
    {
     "data": {
      "text/plain": [
       "[(datetime.datetime(1995, 8, 1, 0, 0), 22)]"
      ]
     },
     "execution_count": 36,
     "metadata": {},
     "output_type": "execute_result"
    }
   ],
   "source": [
    "resultado = (parsed_data.filter(lambda linea: linea[7] == '404')\n",
    "          .map(lambda linea:(fechas(linea), 1))\n",
    "          .reduceByKey(lambda a, b: a+b)\n",
    "          .takeOrdered(5, lambda x: -x[1]))\n",
    "resultado\n",
    "# solo hay un único día en el dataset"
   ]
  }
 ],
 "metadata": {
  "kernelspec": {
   "display_name": "Python 3",
   "language": "python",
   "name": "python3"
  },
  "language_info": {
   "codemirror_mode": {
    "name": "ipython",
    "version": 3
   },
   "file_extension": ".py",
   "mimetype": "text/x-python",
   "name": "python",
   "nbconvert_exporter": "python",
   "pygments_lexer": "ipython3",
   "version": "3.7.0"
  }
 },
 "nbformat": 4,
 "nbformat_minor": 2
}
