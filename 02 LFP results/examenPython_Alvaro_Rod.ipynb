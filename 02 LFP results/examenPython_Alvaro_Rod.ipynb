{
 "cells": [
  {
   "cell_type": "markdown",
   "metadata": {},
   "source": [
    "# Examen ETL: SPARK 09/02"
   ]
  },
  {
   "cell_type": "markdown",
   "metadata": {},
   "source": [
    "Se podrá utilizar toda la información que se encuentra en el campus. \n",
    "\n",
    "El fichero de datos sobre el que se trabajará es el de DataSetPartidos.txt.\n",
    "\n",
    "A cada una de las preguntas hay que responder explicando brevemente que se pretende hacer antes de lanzar el código.\n",
    "\n",
    "Al documento lo llamareís con vuestro nombre y apellido. Debeís enviarlo a mi correo de CUNEF antes del final del examen o en su defecto por email.\n",
    "\n",
    "El lenguaje para trabajar con Spark podrá ser python o R indistintamente."
   ]
  },
  {
   "cell_type": "markdown",
   "metadata": {},
   "source": [
    "## Primera pregunta: ¿ En que se diferencian las acciones de las transformaciones en SPARK? ¿Podrías ponerme un par de ejemplo de cada una de ellas y describir que hacen, para que sirve?"
   ]
  },
  {
   "cell_type": "markdown",
   "metadata": {},
   "source": [
    "Las transformaciones son lazy, devuelven un RDD. Las acciones ejecutan la composición de funciones lazy y devuelven un spark data frame o una lista. Transformaciones: map, filter, group.by, reducebykey. Acciones: Take, collect, Takeordered,count, sum, mean."
   ]
  },
  {
   "cell_type": "markdown",
   "metadata": {},
   "source": [
    "## Segunda tarea: Inicializar spark context y cargar los datos desde el fichero."
   ]
  },
  {
   "cell_type": "code",
   "execution_count": 1,
   "metadata": {
    "collapsed": false
   },
   "outputs": [],
   "source": [
    "from pyspark import SparkContext\n",
    "\n",
    "sc = SparkContext()\n"
   ]
  },
  {
   "cell_type": "code",
   "execution_count": 5,
   "metadata": {
    "collapsed": true
   },
   "outputs": [],
   "source": [
    "data_file = \"./DataSetPartidos.txt\"\n",
    "raw_data = sc.textFile(data_file)\n"
   ]
  },
  {
   "cell_type": "code",
   "execution_count": 6,
   "metadata": {
    "collapsed": false
   },
   "outputs": [
    {
     "data": {
      "text/plain": [
       "['1::1970-71::1::Athletic Club::Barcelona::1::1::12/09/1970::21942000.0',\n",
       " '2::1970-71::1::Las Palmas::Atletico de Madrid::1::1::12/09/1970::21942000.0',\n",
       " '3::1970-71::1::Real Madrid::Valencia::2::0::12/09/1970::21942000.0',\n",
       " '4::1970-71::1::Celta de Vigo::Sporting de Gijon::2::0::13/09/1970::22028400.0',\n",
       " '5::1970-71::1::Elche::Granada::1::1::13/09/1970::22028400.0']"
      ]
     },
     "execution_count": 6,
     "metadata": {},
     "output_type": "execute_result"
    }
   ],
   "source": [
    "raw_data.take(5)"
   ]
  },
  {
   "cell_type": "code",
   "execution_count": 8,
   "metadata": {
    "collapsed": true
   },
   "outputs": [],
   "source": [
    "parse_data = raw_data.map(lambda linea: linea.split(\"::\"))"
   ]
  },
  {
   "cell_type": "code",
   "execution_count": 9,
   "metadata": {
    "collapsed": false
   },
   "outputs": [
    {
     "data": {
      "text/plain": [
       "[['1',\n",
       "  '1970-71',\n",
       "  '1',\n",
       "  'Athletic Club',\n",
       "  'Barcelona',\n",
       "  '1',\n",
       "  '1',\n",
       "  '12/09/1970',\n",
       "  '21942000.0'],\n",
       " ['2',\n",
       "  '1970-71',\n",
       "  '1',\n",
       "  'Las Palmas',\n",
       "  'Atletico de Madrid',\n",
       "  '1',\n",
       "  '1',\n",
       "  '12/09/1970',\n",
       "  '21942000.0']]"
      ]
     },
     "execution_count": 9,
     "metadata": {},
     "output_type": "execute_result"
    }
   ],
   "source": [
    "parse_data.take(2)"
   ]
  },
  {
   "cell_type": "markdown",
   "metadata": {},
   "source": [
    "## Tercera pregunta: Calcular el número total de goles que ha marcado el Real Sporting de Gijón."
   ]
  },
  {
   "cell_type": "code",
   "execution_count": 179,
   "metadata": {
    "collapsed": false
   },
   "outputs": [
    {
     "name": "stdout",
     "output_type": "stream",
     "text": [
      "El Sporting de Gijón ha marcado 2042 goles en total.\n"
     ]
    }
   ],
   "source": [
    "# calculo local y visitante y los sumo\n",
    "# Para cada uno, filtro el equipo, selecciono el valor de sus goles (núm. entero) y sumo\n",
    "local = (parse_data.filter(lambda linea: linea[3] == \"Sporting de Gijon\")\n",
    "                .map(lambda linea: int(linea[5])).sum())\n",
    "\n",
    "visitante = (parse_data.filter(lambda linea: linea[4] == \"Sporting de Gijon\")\n",
    "                .map(lambda linea: int(linea[6])).sum())\n",
    "\n",
    "Total_goles = local + visitante\n",
    "\n",
    "Total_goles\n",
    "\n",
    "print(\"El Sporting de Gijón ha marcado {} goles en total.\".format(Total_goles))\n",
    "      "
   ]
  },
  {
   "cell_type": "markdown",
   "metadata": {},
   "source": [
    "## Cuarta pregunta: ¿ En que temporada se marcaron más goles?"
   ]
  },
  {
   "cell_type": "code",
   "execution_count": 176,
   "metadata": {
    "collapsed": false
   },
   "outputs": [
    {
     "name": "stdout",
     "output_type": "stream",
     "text": [
      "La temporada en la que se marcaron más goles fue la 2012-13, en la que se marcaron 2294 goles en total.\n"
     ]
    }
   ],
   "source": [
    "# Tomo la temporada como clave, la suma de los goles locales y visitantes como valor, la funcción de suma accum en el reducebyKey y selecciono el mayor.\n",
    "temp_goles = (parse_data.map(lambda linea: (linea[1], int(linea[5]) + int(linea[6])))\n",
    "                       .reduceByKey(lambda a,b: a+b)\n",
    "                        .takeOrdered(1, lambda x: -x[1]))\n",
    "\n",
    "print(\"La temporada en la que se marcaron más goles fue la {}, en la que se marcaron {} goles en total.\".format(temp_goles[0][0],temp_goles[0][1]))"
   ]
  },
  {
   "cell_type": "markdown",
   "metadata": {},
   "source": [
    "## Quinta pregunta: ¿Cúal es el equipo y tiene el record de más goles como local? ¿ y cómo visitante?"
   ]
  },
  {
   "cell_type": "code",
   "execution_count": 177,
   "metadata": {
    "collapsed": false
   },
   "outputs": [
    {
     "name": "stdout",
     "output_type": "stream",
     "text": [
      "El equipo más goleador como local es el Real Madrid, con 2054 goles en total.\n"
     ]
    }
   ],
   "source": [
    "# Tomo el equipo local de cada partido junto con sus respectivos goles\n",
    "# aplico la función de suma\n",
    "# seleeciono el primero\n",
    "\n",
    "local_goles = parse_data.map(lambda linea:(linea[3],int(linea[5]))).reduceByKey(lambda a,b: a+b).takeOrdered(1,lambda x: -x[1])\n",
    "\n",
    "print(\"El equipo más goleador como local es el {}, con {} goles en total.\".format(local_goles[0][0],local_goles[0][1]))"
   ]
  },
  {
   "cell_type": "code",
   "execution_count": 178,
   "metadata": {
    "collapsed": false
   },
   "outputs": [
    {
     "name": "stdout",
     "output_type": "stream",
     "text": [
      "El equipo más goleador como visitante es el Barcelona, con 1296 goles en total.\n"
     ]
    }
   ],
   "source": [
    "# Tomo el equipo visitante de cada partido junto con sus respectivos goles\n",
    "# aplico la función de suma\n",
    "# seleeciono el primero\n",
    "visit_goles = parse_data.map(lambda linea:(linea[4],int(linea[6]))).reduceByKey(lambda a,b: a+b).takeOrdered(1,lambda x: -x[1])\n",
    "\n",
    "print(\"El equipo más goleador como visitante es el {}, con {} goles en total.\".format(visit_goles[0][0],visit_goles[0][1]))"
   ]
  },
  {
   "cell_type": "markdown",
   "metadata": {},
   "source": [
    "## Sexta pregunta: ¿Cúales son las 3 décadas en las que más goles se metieron?"
   ]
  },
  {
   "cell_type": "code",
   "execution_count": 110,
   "metadata": {
    "collapsed": false
   },
   "outputs": [
    {
     "name": "stdout",
     "output_type": "stream",
     "text": [
      "La década mas goleadora son los 00, con 20526 goles, en segundo lugar  los 90 (19321 goles) y en tercero los 80 (17336 goles).\n"
     ]
    }
   ],
   "source": [
    "decadas = parse_data.map(lambda linea: (linea[7][-2],int(linea[5]) + int(linea[6]))).reduceByKey(lambda a,b: a+b).takeOrdered(3,lambda x: -x[1])\n",
    "\n",
    "print(\"La década mas goleadora son los {}, con {} goles, en segundo lugar  los {} ({} goles) y en tercero los {} ({} goles).\".format(decadas[0][0]*2,decadas[0][1],int(decadas[1][0])*10,decadas[1][1],int(decadas[2][0])*10,decadas[2][1]))"
   ]
  },
  {
   "cell_type": "markdown",
   "metadata": {},
   "source": [
    "##  Séptima pregunta: ¿Cúal es la media de victorias de los equipos que han estado menos de 10 temporadas en primera división?"
   ]
  },
  {
   "cell_type": "code",
   "execution_count": null,
   "metadata": {
    "collapsed": true
   },
   "outputs": [],
   "source": [
    "# no hay ningún campo que indique la división del partido, están todos los partidos de primera y de segunda sin distinción.\n",
    "# Sabemos que At de Bilbao, Barcelona y Madrid, siempre han jugado en primera.\n",
    "# Si ha estado al menos 10 temporadas en primera ha recibido al At. de Bilbao en al menos 10 ocasiones."
   ]
  },
  {
   "cell_type": "code",
   "execution_count": 249,
   "metadata": {
    "collapsed": false
   },
   "outputs": [],
   "source": [
    "# Todos los equipos con sus respectivas temporadas en futbol profesional\n",
    "\n",
    "Total_equipos = (parse_data.map(lambda linea: (linea[3], linea[1]))\n",
    "     .groupByKey()\n",
    "     .mapValues(set)\n",
    "     .map(lambda x: (x[0], len(x[1]))))\n",
    "\n",
    "# Equipos que han estado 10 o más temporadas en primera\n",
    "\n",
    "Equipos_clasicos = (parse_data.filter(lambda linea: linea[4] == 'Athletic Club')\n",
    "     .map(lambda linea: (linea[3], linea[1]))\n",
    "     .groupByKey()\n",
    "     .mapValues(len)\n",
    "     .filter(lambda linea: linea[1] >= 10))\n",
    "\n",
    "# equipos que no han estado 10 temporadas en primera\n",
    "equipos_peques = (Total_equipos.leftOuterJoin(Equipos_clasicos)\n",
    "                 .map(lambda linea: (linea[0],linea[1][1]))\n",
    "                 .filter(lambda linea: (linea[1] == None)))\n",
    "\n",
    "# Equipos que no han estado 10 o más temporadas en primera\n"
   ]
  },
  {
   "cell_type": "code",
   "execution_count": 251,
   "metadata": {
    "collapsed": false
   },
   "outputs": [],
   "source": [
    "# Partidos totales (calculo local y multiplico por dos, ya que siempre coinciden los partidos en casa y fuera en cada temporada)\n",
    "partidos_total = (parse_data.map(lambda linea: (linea[3],1))\n",
    "                   .reduceByKey(lambda a,b: a + b)\n",
    "                   .map(lambda linea: (linea[0],int(linea[1])*2)))\n",
    "\n",
    "# victorias como local\n",
    "victorias_local = (parse_data.filter(lambda linea: int(linea[5]>linea[6]))\n",
    "                   .map(lambda linea: (linea[3],1))\n",
    "                   .reduceByKey(lambda a,b: a + b))\n",
    "\n",
    "# victorias como visitante\n",
    "victorias_visit = (parse_data.filter(lambda linea: int(linea[6]>linea[5]))\n",
    "                   .map(lambda linea: (linea[4],1))\n",
    "                   .reduceByKey(lambda a,b: a + b))\n",
    "\n",
    "# Union de total de victorias por equipo\n",
    "victorias_totales = victorias_local.union(victorias_visit).reduceByKey(lambda x,y : x+y)\n",
    "\n",
    "\n"
   ]
  },
  {
   "cell_type": "code",
   "execution_count": 253,
   "metadata": {
    "collapsed": false
   },
   "outputs": [
    {
     "data": {
      "text/plain": [
       "[('Alcorcon', 0.4175),\n",
       " ('Athletic Club', 0.3983),\n",
       " ('Merida', 0.3814),\n",
       " ('Castilla', 0.3741),\n",
       " ('Toledo', 0.3633),\n",
       " ('Figueres', 0.3603),\n",
       " ('Elche', 0.3584),\n",
       " ('Girona', 0.3576),\n",
       " ('Sant Andreu', 0.3571),\n",
       " ('Villarreal B', 0.3571)]"
      ]
     },
     "execution_count": 253,
     "metadata": {},
     "output_type": "execute_result"
    }
   ],
   "source": [
    "# Uno los equipos que no han estado 10 temporadas en primera, con sus partidos totales y victoras totales.\n",
    "# Calculo la media dividiendo el número de victorias totales entre el número total de partidos de cada uno.\n",
    "media_victorias = (equipos_peques.join(partidos_total)\n",
    "                   .join(victorias_totales)\n",
    "                   .map(lambda linea: (linea[0],round(linea[1][1] / linea[1][0][1],4))))\n",
    "\n",
    "# muestro los 10 que mejor media total tienen\n",
    "media_victorias.takeOrdered(10,lambda x: -x[1])"
   ]
  },
  {
   "cell_type": "markdown",
   "metadata": {},
   "source": [
    "##  Octava pregunta: ¿Cúal es la media de goles como visitante por partido?"
   ]
  },
  {
   "cell_type": "code",
   "execution_count": 112,
   "metadata": {
    "collapsed": false
   },
   "outputs": [
    {
     "name": "stdout",
     "output_type": "stream",
     "text": [
      "La media de goles de los equipos visitantes es de 0.928 goles, por cada partido\n"
     ]
    }
   ],
   "source": [
    "visit_goles_media = parse_data.map(lambda linea: int(linea[6])).stats()\n",
    "# alternativamente\n",
    "visit_goles_media = parse_data.map(lambda linea: int(linea[6])).mean()\n",
    "\n",
    "print(\"La media de goles de los equipos visitantes es de {} goles, por cada partido.\".format(round(visit_goles_media,4)))"
   ]
  }
 ],
 "metadata": {
  "kernelspec": {
   "display_name": "Python 3",
   "language": "python",
   "name": "python3"
  },
  "language_info": {
   "codemirror_mode": {
    "name": "ipython",
    "version": 3
   },
   "file_extension": ".py",
   "mimetype": "text/x-python",
   "name": "python",
   "nbconvert_exporter": "python",
   "pygments_lexer": "ipython3",
   "version": "3.5.2"
  }
 },
 "nbformat": 4,
 "nbformat_minor": 2
}
